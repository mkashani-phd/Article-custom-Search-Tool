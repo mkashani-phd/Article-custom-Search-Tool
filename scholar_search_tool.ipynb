{
 "cells": [
  {
   "cell_type": "markdown",
   "metadata": {},
   "source": [
    "# Searching for the key word and the author\n",
    "### 'q' : 'WBAN author: SeyedMohammad Kashani'"
   ]
  },
  {
   "cell_type": "code",
   "execution_count": null,
   "metadata": {},
   "outputs": [],
   "source": [
    "import serpapi.google_scholar_search\n",
    "\n",
    "\n",
    "params = {\n",
    "  \"engine\": \"google_scholar\",\n",
    "  \"q\": \"WBAN author: SeyedMohammad Kashani\",\n",
    "  \"api_key\": \"98ea5235c83dcd9e311943405c3de744ef716523dbd3db93801d47a6e36e9ab2\"\n",
    "}\n",
    "\n",
    "search =serpapi.google_scholar_search.GoogleScholarSearch(params)\n",
    "# search = GoogleSearch(params)\n",
    "results = search.get_dict()\n"
   ]
  },
  {
   "cell_type": "markdown",
   "metadata": {},
   "source": [
    "# we can get the author ID from the result\n",
    "### for instance SM Kashani author ID is '8VuGnEsAAAAJ'\n",
    "\n",
    "based on the user ID we can find the **affiliation** and the **co-authors**"
   ]
  },
  {
   "cell_type": "code",
   "execution_count": 14,
   "metadata": {},
   "outputs": [
    {
     "data": {
      "text/plain": [
       "[{'position': 0,\n",
       "  'title': 'A Channel-based Authentication Using Machine Learning for Body Sensor Networks',\n",
       "  'result_id': 'gIEr3DkzLgEJ',\n",
       "  'link': 'https://ieeexplore.ieee.org/abstract/document/10001496/',\n",
       "  'snippet': '… The author of this article believes it is mainly due to the relative low dimensional feature … Gupta, and SK Upadhayay, “A survey on wireless body area network: Security technology and …',\n",
       "  'publication_info': {'summary': 'SM Kashani, F Nait-Abdesselam… - … 2022-2022 IEEE …, 2022 - ieeexplore.ieee.org',\n",
       "   'authors': [{'name': 'SM Kashani',\n",
       "     'link': 'https://scholar.google.com/citations?user=8VuGnEsAAAAJ&hl=en&oi=sra',\n",
       "     'serpapi_scholar_link': 'https://serpapi.com/search.json?author_id=8VuGnEsAAAAJ&engine=google_scholar_author&hl=en',\n",
       "     'author_id': '8VuGnEsAAAAJ'},\n",
       "    {'name': 'F Nait-Abdesselam',\n",
       "     'link': 'https://scholar.google.com/citations?user=ooaZDlcAAAAJ&hl=en&oi=sra',\n",
       "     'serpapi_scholar_link': 'https://serpapi.com/search.json?author_id=ooaZDlcAAAAJ&engine=google_scholar_author&hl=en',\n",
       "     'author_id': 'ooaZDlcAAAAJ'}]},\n",
       "  'inline_links': {'serpapi_cite_link': 'https://serpapi.com/search.json?engine=google_scholar_cite&hl=en&q=gIEr3DkzLgEJ',\n",
       "   'related_pages_link': 'https://scholar.google.com/scholar?q=related:gIEr3DkzLgEJ:scholar.google.com/&scioq=+WBAN+author:+SeyedMohammad+Kashani&hl=en&as_sdt=0,5',\n",
       "   'serpapi_related_pages_link': 'https://serpapi.com/search.json?as_sdt=0%2C5&engine=google_scholar&hl=en&q=related%3AgIEr3DkzLgEJ%3Ascholar.google.com%2F'}}]"
      ]
     },
     "execution_count": 14,
     "metadata": {},
     "output_type": "execute_result"
    }
   ],
   "source": [
    "results['organic_results']"
   ]
  },
  {
   "cell_type": "markdown",
   "metadata": {},
   "source": [
    "# we now try to find Affiliation and Co_Authors\n",
    "'Graduate Student, Iowa State University'"
   ]
  },
  {
   "cell_type": "code",
   "execution_count": 26,
   "metadata": {},
   "outputs": [
    {
     "data": {
      "text/plain": [
       "{'search_metadata': {'id': '652890769c449d427c136f76',\n",
       "  'status': 'Success',\n",
       "  'json_endpoint': 'https://serpapi.com/searches/49dd3ef50146376b/652890769c449d427c136f76.json',\n",
       "  'created_at': '2023-10-13 00:33:58 UTC',\n",
       "  'processed_at': '2023-10-13 00:33:58 UTC',\n",
       "  'google_scholar_author_url': 'https://scholar.google.com/citations?user=8VuGnEsAAAAJ&hl=en',\n",
       "  'raw_html_file': 'https://serpapi.com/searches/49dd3ef50146376b/652890769c449d427c136f76.html',\n",
       "  'total_time_taken': 3.44},\n",
       " 'search_parameters': {'engine': 'google_scholar_author',\n",
       "  'author_id': '8VuGnEsAAAAJ',\n",
       "  'hl': 'en'},\n",
       " 'author': {'name': 'SeyedMohammad Kashani',\n",
       "  'affiliations': 'Graduate Student, Iowa State University',\n",
       "  'email': 'Verified email at iastate.edu',\n",
       "  'interests': [{'title': 'Security',\n",
       "    'link': 'https://scholar.google.com/citations?view_op=search_authors&hl=en&mauthors=label:security',\n",
       "    'serpapi_link': 'https://serpapi.com/search.json?engine=google_scholar_profiles&hl=en&mauthors=label%3Asecurity'},\n",
       "   {'title': 'wireless security',\n",
       "    'link': 'https://scholar.google.com/citations?view_op=search_authors&hl=en&mauthors=label:wireless_security',\n",
       "    'serpapi_link': 'https://serpapi.com/search.json?engine=google_scholar_profiles&hl=en&mauthors=label%3Awireless_security'},\n",
       "   {'title': 'Data Science',\n",
       "    'link': 'https://scholar.google.com/citations?view_op=search_authors&hl=en&mauthors=label:data_science',\n",
       "    'serpapi_link': 'https://serpapi.com/search.json?engine=google_scholar_profiles&hl=en&mauthors=label%3Adata_science'},\n",
       "   {'title': 'Quantum computing',\n",
       "    'link': 'https://scholar.google.com/citations?view_op=search_authors&hl=en&mauthors=label:quantum_computing',\n",
       "    'serpapi_link': 'https://serpapi.com/search.json?engine=google_scholar_profiles&hl=en&mauthors=label%3Aquantum_computing'}],\n",
       "  'thumbnail': 'https://scholar.googleusercontent.com/citations?view_op=view_photo&user=8VuGnEsAAAAJ&citpid=1'},\n",
       " 'articles': [{'title': 'A Channel-based Authentication Using Machine Learning for Body Sensor Networks',\n",
       "   'link': 'https://scholar.google.com/citations?view_op=view_citation&hl=en&user=8VuGnEsAAAAJ&citation_for_view=8VuGnEsAAAAJ:u-x6o8ySG0sC',\n",
       "   'citation_id': '8VuGnEsAAAAJ:u-x6o8ySG0sC',\n",
       "   'authors': 'SM Kashani, F Nait-Abdesselam, A Khokhar',\n",
       "   'publication': 'GLOBECOM 2022-2022 IEEE Global Communications Conference, 1103-1108, 2022',\n",
       "   'cited_by': {'value': None},\n",
       "   'year': '2022'}],\n",
       " 'co_authors': [{'name': 'Farid Nait-Abdesselam',\n",
       "   'link': 'https://scholar.google.com/citations?user=ooaZDlcAAAAJ&hl=en',\n",
       "   'serpapi_link': 'https://serpapi.com/search.json?author_id=ooaZDlcAAAAJ&engine=google_scholar_author&hl=en',\n",
       "   'author_id': 'ooaZDlcAAAAJ',\n",
       "   'affiliations': 'University of Missouri Kansas City',\n",
       "   'email': 'Verified email at umkc.edu',\n",
       "   'thumbnail': 'https://scholar.googleusercontent.com/citations?view_op=small_photo&user=ooaZDlcAAAAJ&citpid=7'}]}"
      ]
     },
     "execution_count": 26,
     "metadata": {},
     "output_type": "execute_result"
    }
   ],
   "source": [
    "\n",
    "params = {\n",
    "  \"engine\": \"google_scholar_author\",\n",
    "  \"author_id\": \"8VuGnEsAAAAJ\",\n",
    "  # \"view_op\": \"list_colleagues\", # list co-authors\n",
    "  \"api_key\": \"98ea5235c83dcd9e311943405c3de744ef716523dbd3db93801d47a6e36e9ab2\"\n",
    "}\n",
    "\n",
    "search =serpapi.google_scholar_search.GoogleScholarSearch(params)\n",
    "# search = GoogleSearch(params)\n",
    "Author_results = search.get_dict()\n",
    "Author_results"
   ]
  },
  {
   "cell_type": "markdown",
   "metadata": {},
   "source": [
    "# it listed Farid as the co-Authors\n",
    "### this is Farid Co-Author ID : \"ooaZDlcAAAAJ\""
   ]
  },
  {
   "cell_type": "code",
   "execution_count": null,
   "metadata": {},
   "outputs": [],
   "source": [
    "\n",
    "params = {\n",
    "  \"engine\": \"google_scholar_author\",\n",
    "  \"author_id\": \"ooaZDlcAAAAJ\",\n",
    "  # \"num\": \"100\",# number of article to return (100 is max and 20 is defualt)\n",
    "  \"api_key\": \"98ea5235c83dcd9e311943405c3de744ef716523dbd3db93801d47a6e36e9ab2\"\n",
    "}\n",
    "\n",
    "search =serpapi.google_scholar_search.GoogleScholarSearch(params)\n",
    "# search = GoogleSearch(params)\n",
    "co_author_results = search.get_dict()"
   ]
  },
  {
   "cell_type": "markdown",
   "metadata": {},
   "source": [
    "# Now we find Farid's affiliation\n",
    "### 'affiliations': 'University of Missouri Kansas City'"
   ]
  },
  {
   "cell_type": "code",
   "execution_count": 17,
   "metadata": {},
   "outputs": [
    {
     "data": {
      "text/plain": [
       "{'name': 'Farid Nait-Abdesselam',\n",
       " 'affiliations': 'University of Missouri Kansas City',\n",
       " 'email': 'Verified email at umkc.edu',\n",
       " 'interests': [{'title': 'Networking',\n",
       "   'link': 'https://scholar.google.com/citations?view_op=search_authors&hl=en&mauthors=label:networking',\n",
       "   'serpapi_link': 'https://serpapi.com/search.json?engine=google_scholar_profiles&hl=en&mauthors=label%3Anetworking'},\n",
       "  {'title': 'Security',\n",
       "   'link': 'https://scholar.google.com/citations?view_op=search_authors&hl=en&mauthors=label:security',\n",
       "   'serpapi_link': 'https://serpapi.com/search.json?engine=google_scholar_profiles&hl=en&mauthors=label%3Asecurity'},\n",
       "  {'title': 'Malware Analysis',\n",
       "   'link': 'https://scholar.google.com/citations?view_op=search_authors&hl=en&mauthors=label:malware_analysis',\n",
       "   'serpapi_link': 'https://serpapi.com/search.json?engine=google_scholar_profiles&hl=en&mauthors=label%3Amalware_analysis'},\n",
       "  {'title': 'Adversarial Learning',\n",
       "   'link': 'https://scholar.google.com/citations?view_op=search_authors&hl=en&mauthors=label:adversarial_learning',\n",
       "   'serpapi_link': 'https://serpapi.com/search.json?engine=google_scholar_profiles&hl=en&mauthors=label%3Aadversarial_learning'},\n",
       "  {'title': 'Smart Healthcare',\n",
       "   'link': 'https://scholar.google.com/citations?view_op=search_authors&hl=en&mauthors=label:smart_healthcare',\n",
       "   'serpapi_link': 'https://serpapi.com/search.json?engine=google_scholar_profiles&hl=en&mauthors=label%3Asmart_healthcare'}],\n",
       " 'thumbnail': 'https://scholar.googleusercontent.com/citations?view_op=view_photo&user=ooaZDlcAAAAJ&citpid=7'}"
      ]
     },
     "execution_count": 17,
     "metadata": {},
     "output_type": "execute_result"
    }
   ],
   "source": [
    "co_author_results['author']"
   ]
  },
  {
   "cell_type": "markdown",
   "metadata": {},
   "source": [
    "# we also can search Iowa State University\n",
    "### Let's search for Ashfaq Khokhar"
   ]
  },
  {
   "cell_type": "code",
   "execution_count": 22,
   "metadata": {},
   "outputs": [],
   "source": [
    "\n",
    "params = {\n",
    "  \"engine\": \"google_scholar_profiles\",\n",
    "  \"mauthors\": \"Ashfaq Khokhar\",\n",
    "  \"api_key\": \"98ea5235c83dcd9e311943405c3de744ef716523dbd3db93801d47a6e36e9ab2\"\n",
    "}\n",
    "\n",
    "search =serpapi.google_scholar_search.GoogleScholarSearch(params)\n",
    "# search = GoogleSearch(params)\n",
    "profile_results = search.get_dict()"
   ]
  },
  {
   "cell_type": "code",
   "execution_count": 23,
   "metadata": {},
   "outputs": [
    {
     "data": {
      "text/plain": [
       "{'search_metadata': {'id': '65288fb07690dc85a941406a',\n",
       "  'status': 'Success',\n",
       "  'json_endpoint': 'https://serpapi.com/searches/b1902481974a2bfd/65288fb07690dc85a941406a.json',\n",
       "  'created_at': '2023-10-13 00:30:40 UTC',\n",
       "  'processed_at': '2023-10-13 00:30:40 UTC',\n",
       "  'google_scholar_profiles_url': 'https://scholar.google.com/citations?mauthors=Ashfaq+Khokhar&view_op=search_authors&hl=en',\n",
       "  'raw_html_file': 'https://serpapi.com/searches/b1902481974a2bfd/65288fb07690dc85a941406a.html',\n",
       "  'total_time_taken': 0.86},\n",
       " 'search_parameters': {'engine': 'google_scholar_profiles',\n",
       "  'mauthors': 'Ashfaq Khokhar',\n",
       "  'hl': 'en'},\n",
       " 'profiles': [{'name': 'Ashfaq Khokhar',\n",
       "   'link': 'https://scholar.google.com/citations?hl=en&user=sDcz5YMAAAAJ',\n",
       "   'serpapi_link': 'https://serpapi.com/search.json?author_id=sDcz5YMAAAAJ&engine=google_scholar_author&hl=en',\n",
       "   'author_id': 'sDcz5YMAAAAJ',\n",
       "   'affiliations': 'Professor and Palmer Department Chair of ECE, Iowa State University',\n",
       "   'email': 'Verified email at iastate.edu',\n",
       "   'cited_by': 6674,\n",
       "   'thumbnail': 'https://scholar.google.com/citations/images/avatar_scholar_56.png'}]}"
      ]
     },
     "execution_count": 23,
     "metadata": {},
     "output_type": "execute_result"
    }
   ],
   "source": [
    "profile_results"
   ]
  },
  {
   "cell_type": "code",
   "execution_count": 24,
   "metadata": {},
   "outputs": [],
   "source": [
    "params = {\n",
    "  \"engine\": \"google_scholar_profiles\",\n",
    "  \"mauthors\": \"Iowa State University\",\n",
    "  \"api_key\": \"98ea5235c83dcd9e311943405c3de744ef716523dbd3db93801d47a6e36e9ab2\"\n",
    "}\n",
    "\n",
    "search =serpapi.google_scholar_search.GoogleScholarSearch(params)\n",
    "# search = GoogleSearch(params)\n",
    "profile_results = search.get_dict()"
   ]
  },
  {
   "cell_type": "code",
   "execution_count": 25,
   "metadata": {},
   "outputs": [
    {
     "data": {
      "text/plain": [
       "{'search_metadata': {'id': '65288961c99903c40fd6752d',\n",
       "  'status': 'Success',\n",
       "  'json_endpoint': 'https://serpapi.com/searches/42456e174fad0bd0/65288961c99903c40fd6752d.json',\n",
       "  'created_at': '2023-10-13 00:03:45 UTC',\n",
       "  'processed_at': '2023-10-13 00:03:45 UTC',\n",
       "  'google_scholar_profiles_url': 'https://scholar.google.com/citations?mauthors=Iowa+State+University&view_op=search_authors&hl=en',\n",
       "  'raw_html_file': 'https://serpapi.com/searches/42456e174fad0bd0/65288961c99903c40fd6752d.html',\n",
       "  'total_time_taken': 0.95},\n",
       " 'search_parameters': {'engine': 'google_scholar_profiles',\n",
       "  'mauthors': 'Iowa State University',\n",
       "  'hl': 'en'},\n",
       " 'profiles': [{'name': 'Jie Yu',\n",
       "   'link': 'https://scholar.google.com/citations?hl=en&user=QBPY1ToAAAAJ',\n",
       "   'serpapi_link': 'https://serpapi.com/search.json?author_id=QBPY1ToAAAAJ&engine=google_scholar_author&hl=en',\n",
       "   'author_id': 'QBPY1ToAAAAJ',\n",
       "   'affiliations': 'Iowa State University, Oklahoma State University, CERN, Nanjing University, CEA Saclay …',\n",
       "   'email': 'Verified email at cern.ch',\n",
       "   'cited_by': 174663,\n",
       "   'interests': [{'title': 'High energy physics',\n",
       "     'serpapi_link': 'https://serpapi.com/search.json?engine=google_scholar_profiles&hl=en&mauthors=label%3Ahigh_energy_physics',\n",
       "     'link': 'https://scholar.google.com/citations?hl=en&view_op=search_authors&mauthors=label:high_energy_physics'},\n",
       "    {'title': 'Particle physics',\n",
       "     'serpapi_link': 'https://serpapi.com/search.json?engine=google_scholar_profiles&hl=en&mauthors=label%3Aparticle_physics',\n",
       "     'link': 'https://scholar.google.com/citations?hl=en&view_op=search_authors&mauthors=label:particle_physics'},\n",
       "    {'title': 'Cosmology',\n",
       "     'serpapi_link': 'https://serpapi.com/search.json?engine=google_scholar_profiles&hl=en&mauthors=label%3Acosmology',\n",
       "     'link': 'https://scholar.google.com/citations?hl=en&view_op=search_authors&mauthors=label:cosmology'},\n",
       "    {'title': 'Accelerator physics',\n",
       "     'serpapi_link': 'https://serpapi.com/search.json?engine=google_scholar_profiles&hl=en&mauthors=label%3Aaccelerator_physics',\n",
       "     'link': 'https://scholar.google.com/citations?hl=en&view_op=search_authors&mauthors=label:accelerator_physics'}],\n",
       "   'thumbnail': 'https://scholar.google.com/citations/images/avatar_scholar_56.png'},\n",
       "  {'name': 'Venkatesh Veeraraghavan',\n",
       "   'link': 'https://scholar.google.com/citations?hl=en&user=palGgcsAAAAJ',\n",
       "   'serpapi_link': 'https://serpapi.com/search.json?author_id=palGgcsAAAAJ&engine=google_scholar_author&hl=en',\n",
       "   'author_id': 'palGgcsAAAAJ',\n",
       "   'affiliations': 'Iowa State University',\n",
       "   'email': 'Verified email at iastate.edu',\n",
       "   'cited_by': 116658,\n",
       "   'interests': [{'title': 'Particle physics',\n",
       "     'serpapi_link': 'https://serpapi.com/search.json?engine=google_scholar_profiles&hl=en&mauthors=label%3Aparticle_physics',\n",
       "     'link': 'https://scholar.google.com/citations?hl=en&view_op=search_authors&mauthors=label:particle_physics'},\n",
       "    {'title': 'Instrumentation',\n",
       "     'serpapi_link': 'https://serpapi.com/search.json?engine=google_scholar_profiles&hl=en&mauthors=label%3Ainstrumentation',\n",
       "     'link': 'https://scholar.google.com/citations?hl=en&view_op=search_authors&mauthors=label:instrumentation'},\n",
       "    {'title': 'scientific computing',\n",
       "     'serpapi_link': 'https://serpapi.com/search.json?engine=google_scholar_profiles&hl=en&mauthors=label%3Ascientific_computing',\n",
       "     'link': 'https://scholar.google.com/citations?hl=en&view_op=search_authors&mauthors=label:scientific_computing'}],\n",
       "   'thumbnail': 'https://scholar.google.com/citations/images/avatar_scholar_56.png'},\n",
       "  {'name': 'Costas M. Soukoulis',\n",
       "   'link': 'https://scholar.google.com/citations?hl=en&user=U_agiyUAAAAJ',\n",
       "   'serpapi_link': 'https://serpapi.com/search.json?author_id=U_agiyUAAAAJ&engine=google_scholar_author&hl=en',\n",
       "   'author_id': 'U_agiyUAAAAJ',\n",
       "   'affiliations': 'Iowa State University/Ames Laboratory & IESL/FORTH',\n",
       "   'email': 'Verified email at iastate.edu',\n",
       "   'cited_by': 70854,\n",
       "   'interests': [{'title': 'Photonic Crystals',\n",
       "     'serpapi_link': 'https://serpapi.com/search.json?engine=google_scholar_profiles&hl=en&mauthors=label%3Aphotonic_crystals',\n",
       "     'link': 'https://scholar.google.com/citations?hl=en&view_op=search_authors&mauthors=label:photonic_crystals'},\n",
       "    {'title': 'Metamaterials',\n",
       "     'serpapi_link': 'https://serpapi.com/search.json?engine=google_scholar_profiles&hl=en&mauthors=label%3Ametamaterials',\n",
       "     'link': 'https://scholar.google.com/citations?hl=en&view_op=search_authors&mauthors=label:metamaterials'},\n",
       "    {'title': 'Plasmonics',\n",
       "     'serpapi_link': 'https://serpapi.com/search.json?engine=google_scholar_profiles&hl=en&mauthors=label%3Aplasmonics',\n",
       "     'link': 'https://scholar.google.com/citations?hl=en&view_op=search_authors&mauthors=label:plasmonics'},\n",
       "    {'title': 'Random Lasers',\n",
       "     'serpapi_link': 'https://serpapi.com/search.json?engine=google_scholar_profiles&hl=en&mauthors=label%3Arandom_lasers',\n",
       "     'link': 'https://scholar.google.com/citations?hl=en&view_op=search_authors&mauthors=label:random_lasers'},\n",
       "    {'title': 'Electron and Light Localization',\n",
       "     'serpapi_link': 'https://serpapi.com/search.json?engine=google_scholar_profiles&hl=en&mauthors=label%3Aelectron_and_light_localization',\n",
       "     'link': 'https://scholar.google.com/citations?hl=en&view_op=search_authors&mauthors=label:electron_and_light_localization'}],\n",
       "   'thumbnail': 'https://scholar.googleusercontent.com/citations?view_op=small_photo&user=U_agiyUAAAAJ&citpid=4'},\n",
       "  {'name': 'Craig A. Anderson',\n",
       "   'link': 'https://scholar.google.com/citations?hl=en&user=4NylLU4AAAAJ',\n",
       "   'serpapi_link': 'https://serpapi.com/search.json?author_id=4NylLU4AAAAJ&engine=google_scholar_author&hl=en',\n",
       "   'author_id': '4NylLU4AAAAJ',\n",
       "   'affiliations': 'Distinguished Professor, Iowa State University',\n",
       "   'email': 'Verified email at iastate.edu',\n",
       "   'cited_by': 65366,\n",
       "   'interests': [{'title': 'Aggression',\n",
       "     'serpapi_link': 'https://serpapi.com/search.json?engine=google_scholar_profiles&hl=en&mauthors=label%3Aaggression',\n",
       "     'link': 'https://scholar.google.com/citations?hl=en&view_op=search_authors&mauthors=label:aggression'},\n",
       "    {'title': 'Violence',\n",
       "     'serpapi_link': 'https://serpapi.com/search.json?engine=google_scholar_profiles&hl=en&mauthors=label%3Aviolence',\n",
       "     'link': 'https://scholar.google.com/citations?hl=en&view_op=search_authors&mauthors=label:violence'},\n",
       "    {'title': 'Social Psychology',\n",
       "     'serpapi_link': 'https://serpapi.com/search.json?engine=google_scholar_profiles&hl=en&mauthors=label%3Asocial_psychology',\n",
       "     'link': 'https://scholar.google.com/citations?hl=en&view_op=search_authors&mauthors=label:social_psychology'},\n",
       "    {'title': 'Media Psychology',\n",
       "     'serpapi_link': 'https://serpapi.com/search.json?engine=google_scholar_profiles&hl=en&mauthors=label%3Amedia_psychology',\n",
       "     'link': 'https://scholar.google.com/citations?hl=en&view_op=search_authors&mauthors=label:media_psychology'},\n",
       "    {'title': 'Media Effects',\n",
       "     'serpapi_link': 'https://serpapi.com/search.json?engine=google_scholar_profiles&hl=en&mauthors=label%3Amedia_effects',\n",
       "     'link': 'https://scholar.google.com/citations?hl=en&view_op=search_authors&mauthors=label:media_effects'}],\n",
       "   'thumbnail': 'https://scholar.googleusercontent.com/citations?view_op=small_photo&user=4NylLU4AAAAJ&citpid=3'},\n",
       "  {'name': 'Daniel W. Russell',\n",
       "   'link': 'https://scholar.google.com/citations?hl=en&user=Pa81bO0AAAAJ',\n",
       "   'serpapi_link': 'https://serpapi.com/search.json?author_id=Pa81bO0AAAAJ&engine=google_scholar_author&hl=en',\n",
       "   'author_id': 'Pa81bO0AAAAJ',\n",
       "   'affiliations': 'Iowa State University',\n",
       "   'email': 'Verified email at iastate.edu',\n",
       "   'cited_by': 60545,\n",
       "   'interests': [{'title': 'Social support and loneliness',\n",
       "     'serpapi_link': 'https://serpapi.com/search.json?engine=google_scholar_profiles&hl=en&mauthors=label%3Asocial_support_and_loneliness',\n",
       "     'link': 'https://scholar.google.com/citations?hl=en&view_op=search_authors&mauthors=label:social_support_and_loneliness'},\n",
       "    {'title': 'quantitative research methods',\n",
       "     'serpapi_link': 'https://serpapi.com/search.json?engine=google_scholar_profiles&hl=en&mauthors=label%3Aquantitative_research_methods',\n",
       "     'link': 'https://scholar.google.com/citations?hl=en&view_op=search_authors&mauthors=label:quantitative_research_methods'}],\n",
       "   'thumbnail': 'https://scholar.googleusercontent.com/citations?view_op=small_photo&user=Pa81bO0AAAAJ&citpid=2'},\n",
       "  {'name': 'Paul C. Canfield',\n",
       "   'link': 'https://scholar.google.com/citations?hl=en&user=CtZtbOIAAAAJ',\n",
       "   'serpapi_link': 'https://serpapi.com/search.json?author_id=CtZtbOIAAAAJ&engine=google_scholar_author&hl=en',\n",
       "   'author_id': 'CtZtbOIAAAAJ',\n",
       "   'affiliations': 'Distinguished Professor of Physics, Iowa State University',\n",
       "   'email': 'Verified email at iastate.edu',\n",
       "   'cited_by': 58862,\n",
       "   'interests': [{'title': 'New Materials Physics',\n",
       "     'serpapi_link': 'https://serpapi.com/search.json?engine=google_scholar_profiles&hl=en&mauthors=label%3Anew_materials_physics',\n",
       "     'link': 'https://scholar.google.com/citations?hl=en&view_op=search_authors&mauthors=label:new_materials_physics'},\n",
       "    {'title': 'Condensed Matter Physics',\n",
       "     'serpapi_link': 'https://serpapi.com/search.json?engine=google_scholar_profiles&hl=en&mauthors=label%3Acondensed_matter_physics',\n",
       "     'link': 'https://scholar.google.com/citations?hl=en&view_op=search_authors&mauthors=label:condensed_matter_physics'}],\n",
       "   'thumbnail': 'https://scholar.googleusercontent.com/citations?view_op=small_photo&user=CtZtbOIAAAAJ&citpid=1'},\n",
       "  {'name': 'Kai-Ming Ho',\n",
       "   'link': 'https://scholar.google.com/citations?hl=en&user=cGlRoOAAAAAJ',\n",
       "   'serpapi_link': 'https://serpapi.com/search.json?author_id=cGlRoOAAAAAJ&engine=google_scholar_author&hl=en',\n",
       "   'author_id': 'cGlRoOAAAAAJ',\n",
       "   'affiliations': 'Iowa State University',\n",
       "   'cited_by': 51343,\n",
       "   'interests': [{'title': 'Condensed Matter',\n",
       "     'serpapi_link': 'https://serpapi.com/search.json?engine=google_scholar_profiles&hl=en&mauthors=label%3Acondensed_matter',\n",
       "     'link': 'https://scholar.google.com/citations?hl=en&view_op=search_authors&mauthors=label:condensed_matter'}],\n",
       "   'thumbnail': 'https://scholar.google.com/citations/images/avatar_scholar_56.png'},\n",
       "  {'name': 'Jonathan Wendel',\n",
       "   'link': 'https://scholar.google.com/citations?hl=en&user=5uOZXRwAAAAJ',\n",
       "   'serpapi_link': 'https://serpapi.com/search.json?author_id=5uOZXRwAAAAJ&engine=google_scholar_author&hl=en',\n",
       "   'author_id': '5uOZXRwAAAAJ',\n",
       "   'affiliations': 'Iowa State University',\n",
       "   'email': 'Verified email at iastate.edu',\n",
       "   'cited_by': 50826,\n",
       "   'interests': [{'title': 'evolutionary genomics',\n",
       "     'serpapi_link': 'https://serpapi.com/search.json?engine=google_scholar_profiles&hl=en&mauthors=label%3Aevolutionary_genomics',\n",
       "     'link': 'https://scholar.google.com/citations?hl=en&view_op=search_authors&mauthors=label:evolutionary_genomics'},\n",
       "    {'title': 'plant evolution',\n",
       "     'serpapi_link': 'https://serpapi.com/search.json?engine=google_scholar_profiles&hl=en&mauthors=label%3Aplant_evolution',\n",
       "     'link': 'https://scholar.google.com/citations?hl=en&view_op=search_authors&mauthors=label:plant_evolution'},\n",
       "    {'title': 'evolution',\n",
       "     'serpapi_link': 'https://serpapi.com/search.json?engine=google_scholar_profiles&hl=en&mauthors=label%3Aevolution',\n",
       "     'link': 'https://scholar.google.com/citations?hl=en&view_op=search_authors&mauthors=label:evolution'}],\n",
       "   'thumbnail': 'https://scholar.googleusercontent.com/citations?view_op=small_photo&user=5uOZXRwAAAAJ&citpid=1'},\n",
       "  {'name': 'Vitalij Pecharsky',\n",
       "   'link': 'https://scholar.google.com/citations?hl=en&user=1qlws5QAAAAJ',\n",
       "   'serpapi_link': 'https://serpapi.com/search.json?author_id=1qlws5QAAAAJ&engine=google_scholar_author&hl=en',\n",
       "   'author_id': '1qlws5QAAAAJ',\n",
       "   'affiliations': 'Professor of Materials Science, Ames Laboratory and Iowa State University',\n",
       "   'email': 'Verified email at ameslab.gov',\n",
       "   'cited_by': 41132,\n",
       "   'interests': [{'title': 'Materials Science',\n",
       "     'serpapi_link': 'https://serpapi.com/search.json?engine=google_scholar_profiles&hl=en&mauthors=label%3Amaterials_science',\n",
       "     'link': 'https://scholar.google.com/citations?hl=en&view_op=search_authors&mauthors=label:materials_science'},\n",
       "    {'title': 'Solid State Chemistry and Physics',\n",
       "     'serpapi_link': 'https://serpapi.com/search.json?engine=google_scholar_profiles&hl=en&mauthors=label%3Asolid_state_chemistry_and_physics',\n",
       "     'link': 'https://scholar.google.com/citations?hl=en&view_op=search_authors&mauthors=label:solid_state_chemistry_and_physics'}],\n",
       "   'thumbnail': 'https://scholar.google.com/citations/images/avatar_scholar_56.png'},\n",
       "  {'name': 'Carolyn E. Cutrona',\n",
       "   'link': 'https://scholar.google.com/citations?hl=en&user=Sh-mCKQAAAAJ',\n",
       "   'serpapi_link': 'https://serpapi.com/search.json?author_id=Sh-mCKQAAAAJ&engine=google_scholar_author&hl=en',\n",
       "   'author_id': 'Sh-mCKQAAAAJ',\n",
       "   'affiliations': 'Professor of Psychology, Iowa State University',\n",
       "   'email': 'Verified email at iastate.edu',\n",
       "   'cited_by': 39200,\n",
       "   'interests': [{'title': 'psychology',\n",
       "     'serpapi_link': 'https://serpapi.com/search.json?engine=google_scholar_profiles&hl=en&mauthors=label%3Apsychology',\n",
       "     'link': 'https://scholar.google.com/citations?hl=en&view_op=search_authors&mauthors=label:psychology'}],\n",
       "   'thumbnail': 'https://scholar.google.com/citations/images/avatar_scholar_56.png'}],\n",
       " 'pagination': {'next': 'https://serpapi.com/search.json?after_author=7DRXAN1m__8J&engine=google_scholar_profiles&hl=en&mauthors=Iowa+State+University',\n",
       "  'next_page_token': '7DRXAN1m__8J'}}"
      ]
     },
     "execution_count": 25,
     "metadata": {},
     "output_type": "execute_result"
    }
   ],
   "source": [
    "profile_results"
   ]
  },
  {
   "cell_type": "code",
   "execution_count": null,
   "metadata": {},
   "outputs": [],
   "source": [
    "import serpapi.google_scholar_search\n",
    "\n",
    "\n",
    "params = {\n",
    "  \"engine\": \"google_scholar\",\n",
    "  \"q\": \"WBAN \",\n",
    "  \"api_key\": \"98ea5235c83dcd9e311943405c3de744ef716523dbd3db93801d47a6e36e9ab2\"\n",
    "}\n",
    "\n",
    "search =serpapi.google_scholar_search.GoogleScholarSearch(params)\n",
    "# search = GoogleSearch(params)\n",
    "results = search.get_dict()\n"
   ]
  }
 ],
 "metadata": {
  "kernelspec": {
   "display_name": "Python 3",
   "language": "python",
   "name": "python3"
  },
  "language_info": {
   "codemirror_mode": {
    "name": "ipython",
    "version": 3
   },
   "file_extension": ".py",
   "mimetype": "text/x-python",
   "name": "python",
   "nbconvert_exporter": "python",
   "pygments_lexer": "ipython3",
   "version": "3.10.12"
  }
 },
 "nbformat": 4,
 "nbformat_minor": 2
}
